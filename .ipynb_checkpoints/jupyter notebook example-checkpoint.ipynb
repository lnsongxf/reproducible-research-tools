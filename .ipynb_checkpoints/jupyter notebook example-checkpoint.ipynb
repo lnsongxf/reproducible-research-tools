{
 "cells": [
  {
   "cell_type": "code",
   "execution_count": 15,
   "metadata": {
    "collapsed": false
   },
   "outputs": [
    {
     "name": "stdout",
     "output_type": "stream",
     "text": [
      "Number of patients:  5735"
     ]
    }
   ],
   "source": [
    "require(Hmisc)\n",
    "require(knitr)\n",
    "require(IRdisplay)\n",
    "getHdata(rhc)\n",
    "n <- nrow(rhc)\n",
    "cat(\"Number of patients: \", n)"
   ]
  },
  {
   "cell_type": "markdown",
   "metadata": {},
   "source": [
    "## ABSTRACT\n",
    "\n",
    "To examine the association between the use of right heart catheterization (RHC) during the first 24 hours of care ....\n",
    "\n",
    "## SUBJECTS\n",
    "\n",
    "A total of XX critically ill adult patients receiving care in an ICU for 1 of 9 prespecified disease categories.\n",
    "\n",
    "## RESULTS\n",
    "\n",
    "By case-matching analysis ..."
   ]
  },
  {
   "cell_type": "code",
   "execution_count": 24,
   "metadata": {
    "collapsed": false,
    "scrolled": true
   },
   "outputs": [
    {
     "data": {
      "text/html": [
       "<table> <thead>  <tr>   <th style=\"text-align:left;\">                    </th>   <th style=\"text-align:left;\"> No RHC      </th>   <th style=\"text-align:left;\"> RHC         </th>   <th style=\"text-align:left;\"> Combined    </th>  </tr> </thead><tbody>  <tr>   <td style=\"text-align:left;\">  </td>   <td style=\"text-align:left;\"> (N=3551) </td>   <td style=\"text-align:left;\"> (N=2184) </td>   <td style=\"text-align:left;\"> (N=5735) </td>  </tr>  <tr>   <td style=\"text-align:left;\"> sex </td>   <td style=\"text-align:left;\">  </td>   <td style=\"text-align:left;\">  </td>   <td style=\"text-align:left;\">  </td>  </tr>  <tr>   <td style=\"text-align:left;\"> Female </td>   <td style=\"text-align:left;\"> 0.46 (1637) </td>   <td style=\"text-align:left;\"> 0.41 ( 906) </td>   <td style=\"text-align:left;\"> 0.44 (2543) </td>  </tr>  <tr>   <td style=\"text-align:left;\"> Male </td>   <td style=\"text-align:left;\"> 0.54 (1914) </td>   <td style=\"text-align:left;\"> 0.59 (1278) </td>   <td style=\"text-align:left;\"> 0.56 (3192) </td>  </tr>  <tr>   <td style=\"text-align:left;\"> Age </td>   <td style=\"text-align:left;\"> 50/65/75 </td>   <td style=\"text-align:left;\"> 50/64/73 </td>   <td style=\"text-align:left;\"> 50/64/74 </td>  </tr>  <tr>   <td style=\"text-align:left;\"> Years of Education </td>   <td style=\"text-align:left;\"> 10/12/13 </td>   <td style=\"text-align:left;\"> 10/12/14 </td>   <td style=\"text-align:left;\"> 10/12/13 </td>  </tr></tbody></table>"
      ]
     },
     "metadata": {},
     "output_type": "display_data"
    }
   ],
   "source": [
    "tbl1 <- summaryM(\n",
    "  sex + age + edu ~ swang1, \n",
    "  data = rhc,\n",
    "  overall = TRUE\n",
    ")\n",
    "tbl1 <- summaryM_to_df( \n",
    "    tbl1, \n",
    "    exclude1 = FALSE, \n",
    "    digits = 2, \n",
    "    long = TRUE,\n",
    "    html_space = FALSE\n",
    ")\n",
    "display_html(paste(capture.output(kable(tbl1,format=\"html\")), collapse=\"\", sep=\"\"))"
   ]
  }
 ],
 "metadata": {
  "kernelspec": {
   "display_name": "R",
   "language": "R",
   "name": "ir"
  },
  "language_info": {
   "codemirror_mode": "r",
   "file_extension": ".r",
   "mimetype": "text/x-r-source",
   "name": "R",
   "pygments_lexer": "r",
   "version": "3.3.0"
  }
 },
 "nbformat": 4,
 "nbformat_minor": 0
}
